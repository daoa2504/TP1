{
 "cells": [
  {
   "cell_type": "markdown",
   "source": [
    "### TP1: Quantitative Structure-Activity Relationship (QSAR)\n",
    "\n",
    "Membres du Groupe 2: \n",
    "1- Couthon, Mahutondji Josué Friedman\n",
    "2- Daouda, Abdou Rahime\n",
    "3- Meuleghe Kenmegne, Laetitia\n",
    "\n"
   ],
   "metadata": {
    "collapsed": false
   },
   "id": "5143472452299e0f"
  },
  {
   "cell_type": "code",
   "outputs": [],
   "source": [
    "import pandas as pd"
   ],
   "metadata": {
    "collapsed": false,
    "ExecuteTime": {
     "end_time": "2024-02-29T05:28:50.735687100Z",
     "start_time": "2024-02-29T05:28:50.090059600Z"
    }
   },
   "id": "fa82c5fffe2d3d30",
   "execution_count": 1
  },
  {
   "cell_type": "code",
   "outputs": [],
   "source": [
    "data = pd.read_excel('QSAR_dataset.xlsx')\n"
   ],
   "metadata": {
    "collapsed": false,
    "ExecuteTime": {
     "end_time": "2024-02-29T05:29:20.278898600Z",
     "start_time": "2024-02-29T05:29:19.309272100Z"
    }
   },
   "id": "539ced4719ab853",
   "execution_count": 2
  },
  {
   "cell_type": "code",
   "outputs": [],
   "source": [],
   "metadata": {
    "collapsed": false
   },
   "id": "4122a491486e5cd0"
  }
 ],
 "metadata": {
  "kernelspec": {
   "display_name": "Python 3",
   "language": "python",
   "name": "python3"
  },
  "language_info": {
   "codemirror_mode": {
    "name": "ipython",
    "version": 2
   },
   "file_extension": ".py",
   "mimetype": "text/x-python",
   "name": "python",
   "nbconvert_exporter": "python",
   "pygments_lexer": "ipython2",
   "version": "2.7.6"
  }
 },
 "nbformat": 4,
 "nbformat_minor": 5
}
