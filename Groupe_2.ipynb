{
 "cells": [
  {
   "cell_type": "markdown",
   "source": [
    "### TP1: Quantitative Structure-Activity Relationship (QSAR)\n",
    "\n",
    "Membres du Groupe 2: \n",
    "1- Couthon, Mahutondji Josué Friedman\n",
    "2- Daouda, Abdou Rahime\n",
    "3- Meuleghe Kenmegne, Laetitia\n",
    "\n"
   ],
   "metadata": {
    "collapsed": false
   },
   "id": "5143472452299e0f"
  },
  {
   "cell_type": "code",
   "outputs": [],
   "source": [
    "import pandas as pd\n",
    "import matplotlib.pyplot as plt\n",
    "import seaborn as sns"
   ],
   "metadata": {
    "collapsed": false,
    "ExecuteTime": {
     "end_time": "2024-03-01T03:43:04.459430Z",
     "start_time": "2024-03-01T03:43:02.482150Z"
    }
   },
   "id": "fa82c5fffe2d3d30",
   "execution_count": 27
  },
  {
   "cell_type": "code",
   "outputs": [],
   "source": [
    "data = pd.read_excel('QSAR_dataset.xlsx')\n"
   ],
   "metadata": {
    "collapsed": false,
    "ExecuteTime": {
     "end_time": "2024-03-01T03:33:43.734163Z",
     "start_time": "2024-03-01T03:33:43.464627Z"
    }
   },
   "id": "539ced4719ab853",
   "execution_count": 18
  },
  {
   "cell_type": "code",
   "outputs": [],
   "source": [
    "data"
   ],
   "metadata": {
    "collapsed": false
   },
   "id": "4122a491486e5cd0",
   "execution_count": null
  },
  {
   "cell_type": "code",
   "outputs": [],
   "source": [
    "df = data.drop(\"Class\", axis = 1) #dataframe sans la colonne classe"
   ],
   "metadata": {
    "collapsed": false
   },
   "id": "cff7829c112e6561",
   "execution_count": null
  },
  {
   "cell_type": "code",
   "outputs": [],
   "source": [
    "df"
   ],
   "metadata": {
    "collapsed": false
   },
   "id": "dfd07dbcc7f8b387",
   "execution_count": null
  },
  {
   "cell_type": "code",
   "outputs": [],
   "source": [
    "df.describe()"
   ],
   "metadata": {
    "collapsed": false
   },
   "id": "ceae46d9ca7f2c20",
   "execution_count": null
  },
  {
   "cell_type": "code",
   "outputs": [],
   "source": [
    "df.isnull().sum()"
   ],
   "metadata": {
    "collapsed": false
   },
   "id": "c38b68de2d183e4c",
   "execution_count": null
  },
  {
   "cell_type": "code",
   "outputs": [],
   "source": [
    "df.dtypes"
   ],
   "metadata": {
    "collapsed": false
   },
   "id": "889e62c9eca2906f",
   "execution_count": null
  },
  {
   "cell_type": "code",
   "outputs": [],
   "source": [
    "# Transformer les valeurs de la colonne Class en valeurs numériques\n",
    "\n",
    "data['Class'] = data['Class'].str.replace('Class', '')\n",
    "\n",
    "data['Class'] = pd.to_numeric(data['Class'])"
   ],
   "metadata": {
    "collapsed": false
   },
   "id": "5a6ef1730360420e"
  },
  {
   "cell_type": "code",
   "outputs": [],
   "source": [
    "dataF = data.drop(\"SMILES\", axis = 1)\n",
    "correlations = dataF.corr()['Class'].abs()\n",
    "\n",
    "sorted_correlations = correlations.sort_values(ascending=False)\n",
    "\n",
    "top_10_attributes = sorted_correlations.index[2:]\n",
    "\n",
    "print(top_10_attributes)"
   ],
   "metadata": {
    "collapsed": false
   },
   "id": "bf249257a7a2a3c0",
   "execution_count": null
  },
  {
   "cell_type": "code",
   "outputs": [],
   "source": [
    "# Assuming 'data' is your DataFrame and 'top_10_attributes' is the list of top 10 attribute names\n",
    "for attribute in top_10_attributes:\n",
    "    plt.figure(figsize=(10, 6))\n",
    "    sns.distplot(data[attribute], bins=30, kde=False)\n",
    "    plt.title(f'Distribution of {attribute}')\n",
    "    plt.show()"
   ],
   "metadata": {
    "collapsed": false
   },
   "id": "6a7560d768525333",
   "execution_count": null
  },
  {
   "cell_type": "code",
   "outputs": [],
   "source": [],
   "metadata": {
    "collapsed": false
   },
   "id": "829b4994446f2e69"
  }
 ],
 "metadata": {
  "kernelspec": {
   "display_name": "Python 3",
   "language": "python",
   "name": "python3"
  },
  "language_info": {
   "codemirror_mode": {
    "name": "ipython",
    "version": 2
   },
   "file_extension": ".py",
   "mimetype": "text/x-python",
   "name": "python",
   "nbconvert_exporter": "python",
   "pygments_lexer": "ipython2",
   "version": "2.7.6"
  }
 },
 "nbformat": 4,
 "nbformat_minor": 5
}
