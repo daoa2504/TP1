{
 "cells": [
  {
   "cell_type": "markdown",
   "source": [
    "### TP1: Quantitative Structure-Activity Relationship (QSAR)\n",
    "\n",
    "Membres du Groupe 2: \n",
    "1- Couthon, Mahutondji Josué Friedman\n",
    "2- Daouda, Abdou Rahime\n",
    "3- Meuleghe Kenmegne, Laetitia\n",
    "\n"
   ],
   "metadata": {
    "collapsed": false
   },
   "id": "5143472452299e0f"
  },
  {
   "cell_type": "code",
   "outputs": [],
   "source": [
    "import pandas as pd\n",
    "import matplotlib.pyplot as plt\n",
    "import seaborn as sns"
   ],
   "metadata": {
    "collapsed": false,
    "ExecuteTime": {
     "end_time": "2024-03-01T03:43:04.459430Z",
     "start_time": "2024-03-01T03:43:02.482150Z"
    }
   },
   "id": "fa82c5fffe2d3d30",
   "execution_count": 27
  },
  {
   "cell_type": "code",
   "outputs": [],
   "source": [
    "data = pd.read_excel('QSAR_dataset.xlsx')\n"
   ],
   "metadata": {
    "collapsed": false,
    "ExecuteTime": {
     "end_time": "2024-03-01T03:33:43.734163Z",
     "start_time": "2024-03-01T03:33:43.464627Z"
    }
   },
   "id": "539ced4719ab853",
   "execution_count": 18
  },
  {
   "cell_type": "code",
   "outputs": [
    {
     "data": {
      "text/plain": "                                                SMILES     Class       apol  \\\n0    FC(F)(F)C(F)(F)C(F)(F)C(F)(F)C(F)(F)C(F)(F)C(F...   Class 2  41.283001   \n1                                     c12c(cccc1)cccc2   Class 2  22.934343   \n2    Clc1c(Cl)c(Cl)c(c(Cl)c1Cl)-c1c(Cl)c(Cl)c(Cl)c(...  Class -2  42.919998   \n3    ClC1(Cl)C2(Cl)C(Cl)=C(Cl)C1(Cl)C1C2C(Cl)C2(Cl)...  Class -2  38.509171   \n4    Clc1c(Cl)c(Cl)c(c(Cl)c1Cl)-c1c(Cl)c(Cl)c(Cl)c(...  Class -2  41.406792   \n..                                                 ...       ...        ...   \n149                Clc1c(Cl)cc(-c2c(Cl)cc(Cl)cc2)cc1Cl  Class -1  35.353966   \n150      Clc1c(Cl)c(-c2c(Cl)cc(Cl)c(Cl)c2)cc(Cl)c1[O-]   Class 0  37.002380   \n151                             c12c3c(ccc1cccc2)cccc3   Class 0  31.307930   \n152                Clc1c(Cl)cc2c(oc3c2cc(Cl)c(Cl)c3)c1   Class 0  33.309174   \n153                           c12c3c4ccc1cccc2ccc3ccc4   Class 0  34.827930   \n\n           ASA+       ASA-  a_count  a_donacc  a_heavy  a_hyd       a_IC  ...  \\\n0     21.282999  622.40619       43         0     43.0     40  49.644451  ...   \n1    155.975430  156.69504       18         0     10.0     10  17.839369  ...   \n2     38.976181  499.52170       22         0     22.0     22  21.868664  ...   \n3     46.270092  421.43369       23         1     19.0     16  38.822643  ...   \n4     56.392834  480.49115       22         0     21.0     21  26.558620  ...   \n..          ...        ...      ...       ...      ...    ...        ...  ...   \n149  108.591640  369.80264       22         0     17.0     17  31.868664  ...   \n150   74.775352  427.29446       22         0     19.0     17  34.823284  ...   \n151  174.869430  178.80505       24         0     14.0     14  23.516850  ...   \n152  104.919330  333.65930       21         0     17.0     14  33.219116  ...   \n153  179.319000  179.26186       26         0     16.0     16  24.992151  ...   \n\n           VSA    vsa_acc    vsa_hyd    vsa_pol   vsurf_A    vsurf_R  \\\n0    421.45898  27.133842  357.37701  27.133842  3.610454   7.831075   \n1    151.37508   0.000000  130.88504   0.000000  0.040120   0.087020   \n2    338.42563   0.000000  345.43402   0.000000  0.048171   0.104483   \n3    293.98846   2.503756  263.09042   2.503756  4.973507  10.787536   \n4    330.35486   0.000000  327.14081   0.000000  0.137724   0.298724   \n..         ...        ...        ...        ...       ...        ...   \n149  274.55731   0.000000  253.96802   0.000000  0.189245   0.410473   \n150  292.15103  13.566921  256.45273  13.566921  6.924998  15.020321   \n151  198.75549   0.000000  166.91910   0.000000  0.098131   0.212847   \n152  248.35408   0.000000  204.05783   0.000000  0.211047   0.457762   \n153  213.51535   0.000000  171.33618   0.000000  0.048523   0.105245   \n\n        vsurf_S   vsurf_V     Weight  zagreb  \n0   -101.933951 -4.007604  713.09796     246  \n1     -1.132699 -0.044533  128.17400      50  \n2     -1.360008 -0.053470  498.66199     118  \n3   -140.417009 -5.520592  423.76498     130  \n4     -3.888371 -0.152874  464.21698     112  \n..          ...       ...        ...     ...  \n149   -5.342964       NaN  326.43698      88  \n150 -195.513477 -7.686748  375.87299     100  \n151         NaN -0.108926  178.23399      76  \n152         NaN -0.234263  305.97501      96  \n153   -1.369937 -0.053860  202.25600      94  \n\n[154 rows x 76 columns]",
      "text/html": "<div>\n<style scoped>\n    .dataframe tbody tr th:only-of-type {\n        vertical-align: middle;\n    }\n\n    .dataframe tbody tr th {\n        vertical-align: top;\n    }\n\n    .dataframe thead th {\n        text-align: right;\n    }\n</style>\n<table border=\"1\" class=\"dataframe\">\n  <thead>\n    <tr style=\"text-align: right;\">\n      <th></th>\n      <th>SMILES</th>\n      <th>Class</th>\n      <th>apol</th>\n      <th>ASA+</th>\n      <th>ASA-</th>\n      <th>a_count</th>\n      <th>a_donacc</th>\n      <th>a_heavy</th>\n      <th>a_hyd</th>\n      <th>a_IC</th>\n      <th>...</th>\n      <th>VSA</th>\n      <th>vsa_acc</th>\n      <th>vsa_hyd</th>\n      <th>vsa_pol</th>\n      <th>vsurf_A</th>\n      <th>vsurf_R</th>\n      <th>vsurf_S</th>\n      <th>vsurf_V</th>\n      <th>Weight</th>\n      <th>zagreb</th>\n    </tr>\n  </thead>\n  <tbody>\n    <tr>\n      <th>0</th>\n      <td>FC(F)(F)C(F)(F)C(F)(F)C(F)(F)C(F)(F)C(F)(F)C(F...</td>\n      <td>Class 2</td>\n      <td>41.283001</td>\n      <td>21.282999</td>\n      <td>622.40619</td>\n      <td>43</td>\n      <td>0</td>\n      <td>43.0</td>\n      <td>40</td>\n      <td>49.644451</td>\n      <td>...</td>\n      <td>421.45898</td>\n      <td>27.133842</td>\n      <td>357.37701</td>\n      <td>27.133842</td>\n      <td>3.610454</td>\n      <td>7.831075</td>\n      <td>-101.933951</td>\n      <td>-4.007604</td>\n      <td>713.09796</td>\n      <td>246</td>\n    </tr>\n    <tr>\n      <th>1</th>\n      <td>c12c(cccc1)cccc2</td>\n      <td>Class 2</td>\n      <td>22.934343</td>\n      <td>155.975430</td>\n      <td>156.69504</td>\n      <td>18</td>\n      <td>0</td>\n      <td>10.0</td>\n      <td>10</td>\n      <td>17.839369</td>\n      <td>...</td>\n      <td>151.37508</td>\n      <td>0.000000</td>\n      <td>130.88504</td>\n      <td>0.000000</td>\n      <td>0.040120</td>\n      <td>0.087020</td>\n      <td>-1.132699</td>\n      <td>-0.044533</td>\n      <td>128.17400</td>\n      <td>50</td>\n    </tr>\n    <tr>\n      <th>2</th>\n      <td>Clc1c(Cl)c(Cl)c(c(Cl)c1Cl)-c1c(Cl)c(Cl)c(Cl)c(...</td>\n      <td>Class -2</td>\n      <td>42.919998</td>\n      <td>38.976181</td>\n      <td>499.52170</td>\n      <td>22</td>\n      <td>0</td>\n      <td>22.0</td>\n      <td>22</td>\n      <td>21.868664</td>\n      <td>...</td>\n      <td>338.42563</td>\n      <td>0.000000</td>\n      <td>345.43402</td>\n      <td>0.000000</td>\n      <td>0.048171</td>\n      <td>0.104483</td>\n      <td>-1.360008</td>\n      <td>-0.053470</td>\n      <td>498.66199</td>\n      <td>118</td>\n    </tr>\n    <tr>\n      <th>3</th>\n      <td>ClC1(Cl)C2(Cl)C(Cl)=C(Cl)C1(Cl)C1C2C(Cl)C2(Cl)...</td>\n      <td>Class -2</td>\n      <td>38.509171</td>\n      <td>46.270092</td>\n      <td>421.43369</td>\n      <td>23</td>\n      <td>1</td>\n      <td>19.0</td>\n      <td>16</td>\n      <td>38.822643</td>\n      <td>...</td>\n      <td>293.98846</td>\n      <td>2.503756</td>\n      <td>263.09042</td>\n      <td>2.503756</td>\n      <td>4.973507</td>\n      <td>10.787536</td>\n      <td>-140.417009</td>\n      <td>-5.520592</td>\n      <td>423.76498</td>\n      <td>130</td>\n    </tr>\n    <tr>\n      <th>4</th>\n      <td>Clc1c(Cl)c(Cl)c(c(Cl)c1Cl)-c1c(Cl)c(Cl)c(Cl)c(...</td>\n      <td>Class -2</td>\n      <td>41.406792</td>\n      <td>56.392834</td>\n      <td>480.49115</td>\n      <td>22</td>\n      <td>0</td>\n      <td>21.0</td>\n      <td>21</td>\n      <td>26.558620</td>\n      <td>...</td>\n      <td>330.35486</td>\n      <td>0.000000</td>\n      <td>327.14081</td>\n      <td>0.000000</td>\n      <td>0.137724</td>\n      <td>0.298724</td>\n      <td>-3.888371</td>\n      <td>-0.152874</td>\n      <td>464.21698</td>\n      <td>112</td>\n    </tr>\n    <tr>\n      <th>...</th>\n      <td>...</td>\n      <td>...</td>\n      <td>...</td>\n      <td>...</td>\n      <td>...</td>\n      <td>...</td>\n      <td>...</td>\n      <td>...</td>\n      <td>...</td>\n      <td>...</td>\n      <td>...</td>\n      <td>...</td>\n      <td>...</td>\n      <td>...</td>\n      <td>...</td>\n      <td>...</td>\n      <td>...</td>\n      <td>...</td>\n      <td>...</td>\n      <td>...</td>\n      <td>...</td>\n    </tr>\n    <tr>\n      <th>149</th>\n      <td>Clc1c(Cl)cc(-c2c(Cl)cc(Cl)cc2)cc1Cl</td>\n      <td>Class -1</td>\n      <td>35.353966</td>\n      <td>108.591640</td>\n      <td>369.80264</td>\n      <td>22</td>\n      <td>0</td>\n      <td>17.0</td>\n      <td>17</td>\n      <td>31.868664</td>\n      <td>...</td>\n      <td>274.55731</td>\n      <td>0.000000</td>\n      <td>253.96802</td>\n      <td>0.000000</td>\n      <td>0.189245</td>\n      <td>0.410473</td>\n      <td>-5.342964</td>\n      <td>NaN</td>\n      <td>326.43698</td>\n      <td>88</td>\n    </tr>\n    <tr>\n      <th>150</th>\n      <td>Clc1c(Cl)c(-c2c(Cl)cc(Cl)c(Cl)c2)cc(Cl)c1[O-]</td>\n      <td>Class 0</td>\n      <td>37.002380</td>\n      <td>74.775352</td>\n      <td>427.29446</td>\n      <td>22</td>\n      <td>0</td>\n      <td>19.0</td>\n      <td>17</td>\n      <td>34.823284</td>\n      <td>...</td>\n      <td>292.15103</td>\n      <td>13.566921</td>\n      <td>256.45273</td>\n      <td>13.566921</td>\n      <td>6.924998</td>\n      <td>15.020321</td>\n      <td>-195.513477</td>\n      <td>-7.686748</td>\n      <td>375.87299</td>\n      <td>100</td>\n    </tr>\n    <tr>\n      <th>151</th>\n      <td>c12c3c(ccc1cccc2)cccc3</td>\n      <td>Class 0</td>\n      <td>31.307930</td>\n      <td>174.869430</td>\n      <td>178.80505</td>\n      <td>24</td>\n      <td>0</td>\n      <td>14.0</td>\n      <td>14</td>\n      <td>23.516850</td>\n      <td>...</td>\n      <td>198.75549</td>\n      <td>0.000000</td>\n      <td>166.91910</td>\n      <td>0.000000</td>\n      <td>0.098131</td>\n      <td>0.212847</td>\n      <td>NaN</td>\n      <td>-0.108926</td>\n      <td>178.23399</td>\n      <td>76</td>\n    </tr>\n    <tr>\n      <th>152</th>\n      <td>Clc1c(Cl)cc2c(oc3c2cc(Cl)c(Cl)c3)c1</td>\n      <td>Class 0</td>\n      <td>33.309174</td>\n      <td>104.919330</td>\n      <td>333.65930</td>\n      <td>21</td>\n      <td>0</td>\n      <td>17.0</td>\n      <td>14</td>\n      <td>33.219116</td>\n      <td>...</td>\n      <td>248.35408</td>\n      <td>0.000000</td>\n      <td>204.05783</td>\n      <td>0.000000</td>\n      <td>0.211047</td>\n      <td>0.457762</td>\n      <td>NaN</td>\n      <td>-0.234263</td>\n      <td>305.97501</td>\n      <td>96</td>\n    </tr>\n    <tr>\n      <th>153</th>\n      <td>c12c3c4ccc1cccc2ccc3ccc4</td>\n      <td>Class 0</td>\n      <td>34.827930</td>\n      <td>179.319000</td>\n      <td>179.26186</td>\n      <td>26</td>\n      <td>0</td>\n      <td>16.0</td>\n      <td>16</td>\n      <td>24.992151</td>\n      <td>...</td>\n      <td>213.51535</td>\n      <td>0.000000</td>\n      <td>171.33618</td>\n      <td>0.000000</td>\n      <td>0.048523</td>\n      <td>0.105245</td>\n      <td>-1.369937</td>\n      <td>-0.053860</td>\n      <td>202.25600</td>\n      <td>94</td>\n    </tr>\n  </tbody>\n</table>\n<p>154 rows × 76 columns</p>\n</div>"
     },
     "execution_count": 19,
     "metadata": {},
     "output_type": "execute_result"
    }
   ],
   "source": [
    "data"
   ],
   "metadata": {
    "collapsed": false,
    "ExecuteTime": {
     "end_time": "2024-03-01T03:33:45.977471Z",
     "start_time": "2024-03-01T03:33:45.942043Z"
    }
   },
   "id": "4122a491486e5cd0",
   "execution_count": 19
  },
  {
   "cell_type": "code",
   "outputs": [],
   "source": [
    "df = data.drop(\"Class\", axis = 1) #dataframe sans la colonne classe"
   ],
   "metadata": {
    "collapsed": false
   },
   "id": "cff7829c112e6561",
   "execution_count": null
  },
  {
   "cell_type": "code",
   "outputs": [],
   "source": [
    "df"
   ],
   "metadata": {
    "collapsed": false
   },
   "id": "dfd07dbcc7f8b387",
   "execution_count": null
  },
  {
   "cell_type": "code",
   "outputs": [],
   "source": [
    "df.describe()"
   ],
   "metadata": {
    "collapsed": false
   },
   "id": "ceae46d9ca7f2c20",
   "execution_count": null
  },
  {
   "cell_type": "code",
   "outputs": [],
   "source": [
    "df.isnull().sum()"
   ],
   "metadata": {
    "collapsed": false
   },
   "id": "c38b68de2d183e4c",
   "execution_count": null
  },
  {
   "cell_type": "code",
   "outputs": [],
   "source": [
    "df.dtypes"
   ],
   "metadata": {
    "collapsed": false
   },
   "id": "889e62c9eca2906f",
   "execution_count": null
  },
  {
   "cell_type": "code",
   "outputs": [],
   "source": [
    "# Transformer les valeurs de la colonne Class en valeurs numériques\n",
    "\n",
    "data['Class'] = data['Class'].str.replace('Class', '')\n",
    "\n",
    "data['Class'] = pd.to_numeric(data['Class'])"
   ],
   "metadata": {
    "collapsed": false
   },
   "id": "5a6ef1730360420e"
  },
  {
   "cell_type": "code",
   "outputs": [],
   "source": [
    "dataF = data.drop(\"SMILES\", axis = 1)\n",
    "correlations = dataF.corr()['Class'].abs()\n",
    "\n",
    "sorted_correlations = correlations.sort_values(ascending=False)\n",
    "\n",
    "top_10_attributes = sorted_correlations.index[2:]\n",
    "\n",
    "print(top_10_attributes)"
   ],
   "metadata": {
    "collapsed": false
   },
   "id": "bf249257a7a2a3c0",
   "execution_count": null
  },
  {
   "cell_type": "code",
   "outputs": [],
   "source": [
    "# Assuming 'data' is your DataFrame and 'top_10_attributes' is the list of top 10 attribute names\n",
    "for attribute in top_10_attributes:\n",
    "    plt.figure(figsize=(10, 6))\n",
    "    sns.distplot(data[attribute], bins=30, kde=False)\n",
    "    plt.title(f'Distribution of {attribute}')\n",
    "    plt.show()"
   ],
   "metadata": {
    "collapsed": false
   },
   "id": "6a7560d768525333",
   "execution_count": null
  },
  {
   "cell_type": "code",
   "outputs": [],
   "source": [],
   "metadata": {
    "collapsed": false
   },
   "id": "829b4994446f2e69"
  }
 ],
 "metadata": {
  "kernelspec": {
   "display_name": "Python 3",
   "language": "python",
   "name": "python3"
  },
  "language_info": {
   "codemirror_mode": {
    "name": "ipython",
    "version": 2
   },
   "file_extension": ".py",
   "mimetype": "text/x-python",
   "name": "python",
   "nbconvert_exporter": "python",
   "pygments_lexer": "ipython2",
   "version": "2.7.6"
  }
 },
 "nbformat": 4,
 "nbformat_minor": 5
}
